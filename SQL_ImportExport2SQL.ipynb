{
 "cells": [
  {
   "cell_type": "code",
   "execution_count": 12,
   "metadata": {},
   "outputs": [
    {
     "ename": "OperationalError",
     "evalue": "('08001', '[08001] [Microsoft][ODBC SQL Server Driver][DBNETLIB]SQL Server does not exist or access denied. (17) (SQLDriverConnect); [08001] [Microsoft][ODBC SQL Server Driver][DBNETLIB]ConnectionOpen (Connect()). (67)')",
     "output_type": "error",
     "traceback": [
      "\u001b[1;31m---------------------------------------------------------------------------\u001b[0m",
      "\u001b[1;31mOperationalError\u001b[0m                          Traceback (most recent call last)",
      "\u001b[1;32m<ipython-input-12-8bbe87ab19b8>\u001b[0m in \u001b[0;36m<module>\u001b[1;34m\u001b[0m\n\u001b[0;32m      4\u001b[0m \u001b[1;32mimport\u001b[0m \u001b[0mpyodbc\u001b[0m\u001b[1;33m\u001b[0m\u001b[1;33m\u001b[0m\u001b[0m\n\u001b[0;32m      5\u001b[0m \u001b[1;33m\u001b[0m\u001b[0m\n\u001b[1;32m----> 6\u001b[1;33m sql_conn = pyodbc.connect('Driver={SQL Server};'\n\u001b[0m\u001b[0;32m      7\u001b[0m                             \u001b[1;34m'Server=PC-UTILISATEUR/MSSQLSERVER01;'\u001b[0m\u001b[1;33m\u001b[0m\u001b[1;33m\u001b[0m\u001b[0m\n\u001b[0;32m      8\u001b[0m                             \u001b[1;34m'Database=Adventureworks2012;'\u001b[0m\u001b[1;33m\u001b[0m\u001b[1;33m\u001b[0m\u001b[0m\n",
      "\u001b[1;31mOperationalError\u001b[0m: ('08001', '[08001] [Microsoft][ODBC SQL Server Driver][DBNETLIB]SQL Server does not exist or access denied. (17) (SQLDriverConnect); [08001] [Microsoft][ODBC SQL Server Driver][DBNETLIB]ConnectionOpen (Connect()). (67)')"
     ]
    }
   ],
   "source": [
    "## From SQL to DataFrame Pandas\n",
    "import pandas as pd\n",
    "#open database connectivity is a standard application programming interface for accessing database management systems\n",
    "import pyodbc\n",
    "\n",
    "sql_conn = pyodbc.connect('Driver={SQL Server};'\n",
    "                            'Server=PC-UTILISATEUR/MSSQLSERVER01;'\n",
    "                            'Database=Adventureworks2012;'\n",
    "                            'Trusted_Connection=yes;') \n",
    "\n",
    "query = \"SELECT [BusinessEntityID],[FirstName],[LastName],[PostalCode],[City] FROM [Sales].[vSalesPerson]\"\n",
    "df = pd.read_sql(query, sql_conn)\n",
    "\n",
    "df.head(3)\n"
   ]
  },
  {
   "cell_type": "code",
   "execution_count": null,
   "metadata": {},
   "outputs": [],
   "source": [
    "#Inserting data from Python pandas dataframe to SQL Server\n",
    "connStr = pyodbc.connect('DRIVER={ODBC Driver 13 for SQL Server};\n",
    "                            SERVER=SQLSERVER2017;\n",
    "                            DATABASE=Adventureworks;\n",
    "                            Trusted_Connection=yes')\n",
    "cursor = connStr.cursor()\n",
    "\n",
    "for index,row in df.iterrows():\n",
    ".. cursor.execute(\"INSERT INTO dbo.vSalesPerson_test([BusinessEntityID],\n",
    "                        [FirstName],[LastName]) \n",
    "                         values (?, ?,?)\", row['BusinessEntityID'], \n",
    "                                           row['FirstName'], \n",
    "                                           row['LastName']) \n",
    ".. connStr.commit()\n",
    "cursor.close()\n",
    "connStr.close()"
   ]
  }
 ],
 "metadata": {
  "kernelspec": {
   "display_name": "Python 3",
   "language": "python",
   "name": "python3"
  },
  "language_info": {
   "codemirror_mode": {
    "name": "ipython",
    "version": 3
   },
   "file_extension": ".py",
   "mimetype": "text/x-python",
   "name": "python",
   "nbconvert_exporter": "python",
   "pygments_lexer": "ipython3",
   "version": "3.7.1"
  }
 },
 "nbformat": 4,
 "nbformat_minor": 2
}
